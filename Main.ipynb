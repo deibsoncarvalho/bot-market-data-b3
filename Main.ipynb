{
 "cells": [
  {
   "cell_type": "code",
   "execution_count": null,
   "id": "ee878dba",
   "metadata": {},
   "outputs": [],
   "source": [
    "import pandas as pd\n",
    "from b3 import get_ibov_composition, get_yearly_history_quote, get_economic_indicator\n",
    "from general import ChainedAssignent"
   ]
  },
  {
   "cell_type": "code",
   "execution_count": null,
   "id": "78358074",
   "metadata": {},
   "outputs": [],
   "source": [
    "instruments = [ibov.ticker for ibov in get_ibov_composition(min_part=3, verbose=True)]\n",
    "instruments.remove('PETR3')\n",
    "instruments"
   ]
  },
  {
   "cell_type": "code",
   "execution_count": null,
   "id": "efa00130",
   "metadata": {},
   "outputs": [],
   "source": [
    "df = get_yearly_history_quote(verbose=True, instruments=instruments, months=12)\n",
    "df.index "
   ]
  },
  {
   "cell_type": "code",
   "execution_count": null,
   "id": "77235848",
   "metadata": {},
   "outputs": [],
   "source": [
    "df.info()"
   ]
  },
  {
   "cell_type": "code",
   "execution_count": null,
   "id": "509d3c6d",
   "metadata": {},
   "outputs": [],
   "source": [
    "df.drop(['prazoMercadoriaATermo', 'codigoBDI', 'tipoMercado', 'nomeEmpresa', 'especificacaoPapel', \n",
    "        'prazoMercadoriaATermo', 'vencimentoFuturos', 'fatorCotacao', ], axis=1, inplace=True)"
   ]
  },
  {
   "cell_type": "code",
   "execution_count": null,
   "id": "840e98b4",
   "metadata": {},
   "outputs": [],
   "source": [
    "df.describe().round(2)"
   ]
  },
  {
   "cell_type": "code",
   "execution_count": null,
   "id": "32aaaaa3",
   "metadata": {},
   "outputs": [],
   "source": [
    "symbols = []\n",
    "for symbol in instruments:\n",
    "    df_f = df[df.CodigoNegociacaoPapel == symbol]\n",
    "    #df_f['retorno'] = df_f['ultimo'] / df_f['ultimo'].shift(1) - 1\n",
    "    symbols.append(df_f)\n",
    "    "
   ]
  },
  {
   "cell_type": "code",
   "execution_count": null,
   "id": "69a6fac2",
   "metadata": {},
   "outputs": [],
   "source": [
    "def calcula_retorno(df):\n",
    "    with ChainedAssignent():\n",
    "        df['retorno_diario'] = (df['ultimo'] - df['ultimo'].shift(1)) / df['ultimo']\n",
    "        df['retorno_mensal'] = d.groupby('dataPregao')\n",
    "    df = df.fillna(0)"
   ]
  },
  {
   "cell_type": "code",
   "execution_count": null,
   "id": "114a15c6",
   "metadata": {},
   "outputs": [],
   "source": [
    "for symbol in symbols:\n",
    "    calcula_retorno(symbol)\n",
    "    \n",
    "df = df.fillna(0, axis=1)"
   ]
  },
  {
   "cell_type": "code",
   "execution_count": null,
   "id": "4b41956e",
   "metadata": {},
   "outputs": [],
   "source": [
    "for s in symbols:\n",
    "    s.hist('retorno', bins=10, label=s['CodigoNegociacaoPapel'])"
   ]
  },
  {
   "cell_type": "code",
   "execution_count": null,
   "id": "67ad7d18",
   "metadata": {},
   "outputs": [],
   "source": [
    "economic_indicators = get_economic_indicator()"
   ]
  },
  {
   "cell_type": "code",
   "execution_count": null,
   "id": "38cd28d5",
   "metadata": {},
   "outputs": [],
   "source": [
    "economic_indicators['Asset'].unique()"
   ]
  },
  {
   "cell_type": "code",
   "execution_count": null,
   "id": "fc18739e",
   "metadata": {},
   "outputs": [],
   "source": []
  }
 ],
 "metadata": {
  "kernelspec": {
   "display_name": "Python 3 (ipykernel)",
   "language": "python",
   "name": "python3"
  },
  "language_info": {
   "codemirror_mode": {
    "name": "ipython",
    "version": 3
   },
   "file_extension": ".py",
   "mimetype": "text/x-python",
   "name": "python",
   "nbconvert_exporter": "python",
   "pygments_lexer": "ipython3",
   "version": "3.9.5"
  }
 },
 "nbformat": 4,
 "nbformat_minor": 5
}
