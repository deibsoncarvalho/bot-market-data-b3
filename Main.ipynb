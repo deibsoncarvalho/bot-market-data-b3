{
 "cells": [
  {
   "cell_type": "code",
   "execution_count": 1,
   "id": "ee878dba",
   "metadata": {},
   "outputs": [],
   "source": [
    "import pandas as pd\n",
    "from b3 import get_ibov_composition, get_yearly_history_quote, get_economic_indicator, get_instruments\n",
    "from general import ChainedAssignent"
   ]
  },
  {
   "cell_type": "code",
   "execution_count": 4,
   "id": "78358074",
   "metadata": {},
   "outputs": [
    {
     "data": {
      "text/plain": [
       "['VALE3', 'PETR4', 'ITUB4', 'BBDC4', 'B3SA3', 'ABEV3']"
      ]
     },
     "execution_count": 4,
     "metadata": {},
     "output_type": "execute_result"
    }
   ],
   "source": [
    "ibov = [ibov.ticker for ibov in get_ibov_composition(min_part=3)]\n",
    "ibov.remove('PETR3')\n",
    "ibov"
   ]
  },
  {
   "cell_type": "code",
   "execution_count": 5,
   "id": "114a15c6",
   "metadata": {},
   "outputs": [],
   "source": [
    "instruments = get_instruments()"
   ]
  },
  {
   "cell_type": "code",
   "execution_count": 6,
   "id": "67ad7d18",
   "metadata": {},
   "outputs": [
    {
     "data": {
      "text/html": [
       "<div>\n",
       "<style scoped>\n",
       "    .dataframe tbody tr th:only-of-type {\n",
       "        vertical-align: middle;\n",
       "    }\n",
       "\n",
       "    .dataframe tbody tr th {\n",
       "        vertical-align: top;\n",
       "    }\n",
       "\n",
       "    .dataframe thead th {\n",
       "        text-align: right;\n",
       "    }\n",
       "</style>\n",
       "<table border=\"1\" class=\"dataframe\">\n",
       "  <thead>\n",
       "    <tr style=\"text-align: right;\">\n",
       "      <th></th>\n",
       "    </tr>\n",
       "  </thead>\n",
       "  <tbody>\n",
       "  </tbody>\n",
       "</table>\n",
       "</div>"
      ],
      "text/plain": [
       "Empty DataFrame\n",
       "Columns: []\n",
       "Index: []"
      ]
     },
     "execution_count": 6,
     "metadata": {},
     "output_type": "execute_result"
    }
   ],
   "source": [
    "instruments"
   ]
  },
  {
   "cell_type": "code",
   "execution_count": null,
   "id": "38cd28d5",
   "metadata": {},
   "outputs": [],
   "source": []
  },
  {
   "cell_type": "code",
   "execution_count": null,
   "id": "fc18739e",
   "metadata": {},
   "outputs": [],
   "source": []
  }
 ],
 "metadata": {
  "kernelspec": {
   "display_name": "Python 3 (ipykernel)",
   "language": "python",
   "name": "python3"
  },
  "language_info": {
   "codemirror_mode": {
    "name": "ipython",
    "version": 3
   },
   "file_extension": ".py",
   "mimetype": "text/x-python",
   "name": "python",
   "nbconvert_exporter": "python",
   "pygments_lexer": "ipython3",
   "version": "3.8.12"
  }
 },
 "nbformat": 4,
 "nbformat_minor": 5
}
